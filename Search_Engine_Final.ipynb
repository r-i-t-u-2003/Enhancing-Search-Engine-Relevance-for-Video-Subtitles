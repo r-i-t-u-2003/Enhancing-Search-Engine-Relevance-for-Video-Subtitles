{
  "cells": [
    {
      "cell_type": "markdown",
      "metadata": {
        "id": "acCDQptob2ry"
      },
      "source": [
        "# FINAL CODE STEPS FOR SEARCH ENGINE PROJECT"
      ]
    },
    {
      "cell_type": "markdown",
      "metadata": {
        "id": "xVGzMaJHcJ8Q"
      },
      "source": [
        "## Step 1: Reading the data from the database"
      ]
    },
    {
      "cell_type": "markdown",
      "metadata": {
        "id": "XIi_buxqcoN7"
      },
      "source": [
        "### Part 1"
      ]
    },
    {
      "cell_type": "code",
      "execution_count": null,
      "metadata": {
        "id": "sHbG-UqDLsuw"
      },
      "outputs": [],
      "source": [
        "import sqlite3\n",
        "conn = sqlite3.connect(\"Data/eng_subtitles_database.db\")"
      ]
    },
    {
      "cell_type": "code",
      "execution_count": null,
      "metadata": {
        "colab": {
          "base_uri": "https://localhost:8080/",
          "height": 206
        },
        "id": "DLxZqDmFYwzs",
        "outputId": "dbc90f88-3c7b-41dc-cc7f-f7a88ca1101b"
      },
      "outputs": [
        {
          "data": {
            "text/html": [
              "<div>\n",
              "<style scoped>\n",
              "    .dataframe tbody tr th:only-of-type {\n",
              "        vertical-align: middle;\n",
              "    }\n",
              "\n",
              "    .dataframe tbody tr th {\n",
              "        vertical-align: top;\n",
              "    }\n",
              "\n",
              "    .dataframe thead th {\n",
              "        text-align: right;\n",
              "    }\n",
              "</style>\n",
              "<table border=\"1\" class=\"dataframe\">\n",
              "  <thead>\n",
              "    <tr style=\"text-align: right;\">\n",
              "      <th></th>\n",
              "      <th>num</th>\n",
              "      <th>name</th>\n",
              "      <th>content</th>\n",
              "    </tr>\n",
              "  </thead>\n",
              "  <tbody>\n",
              "    <tr>\n",
              "      <th>0</th>\n",
              "      <td>9180533</td>\n",
              "      <td>the.message.(1976).eng.1cd</td>\n",
              "      <td>b'PK\\x03\\x04\\x14\\x00\\x00\\x00\\x08\\x00\\x1c\\xa9\\x...</td>\n",
              "    </tr>\n",
              "    <tr>\n",
              "      <th>1</th>\n",
              "      <td>9180583</td>\n",
              "      <td>here.comes.the.grump.s01.e09.joltin.jack.in.bo...</td>\n",
              "      <td>b'PK\\x03\\x04\\x14\\x00\\x00\\x00\\x08\\x00\\x17\\xb9\\x...</td>\n",
              "    </tr>\n",
              "    <tr>\n",
              "      <th>2</th>\n",
              "      <td>9180592</td>\n",
              "      <td>yumis.cells.s02.e13.episode.2.13.(2022).eng.1cd</td>\n",
              "      <td>b'PK\\x03\\x04\\x14\\x00\\x00\\x00\\x08\\x00L\\xb9\\x99V...</td>\n",
              "    </tr>\n",
              "    <tr>\n",
              "      <th>3</th>\n",
              "      <td>9180594</td>\n",
              "      <td>yumis.cells.s02.e14.episode.2.14.(2022).eng.1cd</td>\n",
              "      <td>b'PK\\x03\\x04\\x14\\x00\\x00\\x00\\x08\\x00U\\xa9\\x99V...</td>\n",
              "    </tr>\n",
              "    <tr>\n",
              "      <th>4</th>\n",
              "      <td>9180600</td>\n",
              "      <td>broker.(2022).eng.1cd</td>\n",
              "      <td>b'PK\\x03\\x04\\x14\\x00\\x00\\x00\\x08\\x001\\xa9\\x99V...</td>\n",
              "    </tr>\n",
              "  </tbody>\n",
              "</table>\n",
              "</div>"
            ],
            "text/plain": [
              "       num                                               name  \\\n",
              "0  9180533                         the.message.(1976).eng.1cd   \n",
              "1  9180583  here.comes.the.grump.s01.e09.joltin.jack.in.bo...   \n",
              "2  9180592    yumis.cells.s02.e13.episode.2.13.(2022).eng.1cd   \n",
              "3  9180594    yumis.cells.s02.e14.episode.2.14.(2022).eng.1cd   \n",
              "4  9180600                              broker.(2022).eng.1cd   \n",
              "\n",
              "                                             content  \n",
              "0  b'PK\\x03\\x04\\x14\\x00\\x00\\x00\\x08\\x00\\x1c\\xa9\\x...  \n",
              "1  b'PK\\x03\\x04\\x14\\x00\\x00\\x00\\x08\\x00\\x17\\xb9\\x...  \n",
              "2  b'PK\\x03\\x04\\x14\\x00\\x00\\x00\\x08\\x00L\\xb9\\x99V...  \n",
              "3  b'PK\\x03\\x04\\x14\\x00\\x00\\x00\\x08\\x00U\\xa9\\x99V...  \n",
              "4  b'PK\\x03\\x04\\x14\\x00\\x00\\x00\\x08\\x001\\xa9\\x99V...  "
            ]
          },
          "execution_count": 2,
          "metadata": {},
          "output_type": "execute_result"
        }
      ],
      "source": [
        "import pandas as pd\n",
        "query = 'SELECT * FROM zipfiles'\n",
        "df = pd.read_sql_query(query, conn)\n",
        "conn.close()\n",
        "df.head()"
      ]
    },
    {
      "cell_type": "code",
      "execution_count": null,
      "metadata": {
        "colab": {
          "base_uri": "https://localhost:8080/"
        },
        "id": "6Ktwaq8CYw2c",
        "outputId": "65847ce2-0132-4e13-80de-9a231236e67e"
      },
      "outputs": [
        {
          "data": {
            "text/plain": [
              "(82498, 3)"
            ]
          },
          "execution_count": 3,
          "metadata": {},
          "output_type": "execute_result"
        }
      ],
      "source": [
        "df.shape"
      ]
    },
    {
      "cell_type": "code",
      "execution_count": null,
      "metadata": {
        "colab": {
          "base_uri": "https://localhost:8080/"
        },
        "id": "4NkusL80Yw5V",
        "outputId": "870f54de-ca78-4c2e-cda8-b2d52ddce155"
      },
      "outputs": [
        {
          "name": "stdout",
          "output_type": "stream",
          "text": [
            "<class 'pandas.core.frame.DataFrame'>\n",
            "RangeIndex: 82498 entries, 0 to 82497\n",
            "Data columns (total 3 columns):\n",
            " #   Column   Non-Null Count  Dtype \n",
            "---  ------   --------------  ----- \n",
            " 0   num      82498 non-null  int64 \n",
            " 1   name     82498 non-null  object\n",
            " 2   content  82498 non-null  object\n",
            "dtypes: int64(1), object(2)\n",
            "memory usage: 1.9+ MB\n"
          ]
        }
      ],
      "source": [
        "df.info()"
      ]
    },
    {
      "cell_type": "code",
      "execution_count": null,
      "metadata": {
        "id": "3fauwL-dYw8W"
      },
      "outputs": [],
      "source": [
        "from tqdm import tqdm, tqdm_notebook\n",
        "tqdm.pandas()"
      ]
    },
    {
      "cell_type": "code",
      "execution_count": null,
      "metadata": {
        "id": "zCzY537MYw_K"
      },
      "outputs": [],
      "source": [
        "import zipfile\n",
        "import io\n",
        "def decomp_decode(data):\n",
        "    with zipfile.ZipFile(io.BytesIO(data)) as zip_file:\n",
        "        file_list = zip_file.namelist()\n",
        "        first_file = file_list[0]\n",
        "        decompressed_data = zip_file.read(first_file)\n",
        "    return decompressed_data.decode('latin-1')"
      ]
    },
    {
      "cell_type": "code",
      "execution_count": null,
      "metadata": {
        "colab": {
          "base_uri": "https://localhost:8080/"
        },
        "id": "fzkd5-JhY8VK",
        "outputId": "a73ad224-09d7-4465-c84b-a6133df978d1"
      },
      "outputs": [
        {
          "name": "stderr",
          "output_type": "stream",
          "text": [
            "100%|██████████████████████████████████████████████████████████████████████████| 82498/82498 [00:26<00:00, 3125.53it/s]\n"
          ]
        }
      ],
      "source": [
        "df['content'] = df['content'].progress_apply(lambda x : decomp_decode(x))"
      ]
    },
    {
      "cell_type": "code",
      "execution_count": null,
      "metadata": {
        "id": "5y41QnolY6L2",
        "outputId": "d4046e1a-1403-4334-eb95-118e7334a07f"
      },
      "outputs": [
        {
          "data": {
            "text/plain": [
              "0    1\\r\\n00:00:06,000 --> 00:00:12,074\\r\\nWatch an...\n",
              "1    1\\r\\n00:00:29,359 --> 00:00:32,048\\r\\nAh! Ther...\n",
              "2    1\\r\\n00:00:53,200 --> 00:00:56,030\\r\\n<i>Yumi'...\n",
              "3    1\\r\\n00:00:06,000 --> 00:00:12,074\\r\\nWatch an...\n",
              "4    ï»¿1\\r\\n00:00:06,000 --> 00:00:12,074\\r\\nWatch...\n",
              "Name: content, dtype: object"
            ]
          },
          "execution_count": 8,
          "metadata": {},
          "output_type": "execute_result"
        }
      ],
      "source": [
        "df['content'].head()"
      ]
    },
    {
      "cell_type": "code",
      "execution_count": null,
      "metadata": {
        "id": "O01BIUy0Y8fO"
      },
      "outputs": [],
      "source": [
        "import re\n",
        "\n",
        "def clean_data(data):\n",
        "    data = re.sub(\"\\d{2}:\\d{2}:\\d{2},\\d{3}\\s-->\\s\\d{2}:\\d{2}:\\d{2},\\d{3}\",\" \",  data)\n",
        "    data = re.sub(r'\\n?\\d+\\r', \"\", data)\n",
        "    data = re.sub('\\r|\\n', \"\", data)\n",
        "    data = re.sub('<i>|</i>', \"\", data)\n",
        "    data = re.sub(\"(?:www\\.)osdb\\.link\\/[\\w\\d]+|www\\.OpenSubtitles\\.org|osdb\\.link\\/ext|api\\.OpenSubtitles\\.org|OpenSubtitles\\.com\", \" \",data)\n",
        "    data = data.lower()\n",
        "    return data"
      ]
    },
    {
      "cell_type": "code",
      "execution_count": null,
      "metadata": {
        "colab": {
          "base_uri": "https://localhost:8080/"
        },
        "id": "44yLCfd8YxB9",
        "outputId": "629595a6-494d-47eb-a2c9-d512e91f6351"
      },
      "outputs": [
        {
          "name": "stderr",
          "output_type": "stream",
          "text": [
            "100%|███████████████████████████████████████████████████████████████████████████| 82498/82498 [04:54<00:00, 280.38it/s]\n"
          ]
        }
      ],
      "source": [
        "df['content'] = df['content'].progress_apply(lambda x: clean_data(x))"
      ]
    },
    {
      "cell_type": "code",
      "execution_count": null,
      "metadata": {
        "id": "KTlNu-rBY6L3"
      },
      "outputs": [],
      "source": [
        "df['num'] = df['num'].apply(lambda x : str(x)) "
      ]
    },
    {
      "cell_type": "code",
      "execution_count": null,
      "metadata": {
        "id": "AU-1zMelZHBm",
        "scrolled": true
      },
      "outputs": [],
      "source": [
        "#!pip install sentence-transformers"
      ]
    },
    {
      "cell_type": "code",
      "execution_count": null,
      "metadata": {
        "id": "Tv_3n20YjphY"
      },
      "outputs": [],
      "source": [
        "from sentence_transformers import SentenceTransformer\n",
        "import numpy as np\n",
        "\n",
        "model_name = 'paraphrase-MiniLM-L3-v2' \n",
        "model = SentenceTransformer(model_name, device='cuda')\n",
        "\n",
        "def semantic_chunking(document, similarity_threshold=0.9):\n",
        "    sentences = document.split('.')\n",
        "    chunks = []\n",
        "    current_chunk = sentences[0]\n",
        "    sentence_embeddings = model.encode(sentences)\n",
        "    for i in range(1, len(sentences)):\n",
        "        similarity_score = np.dot(sentence_embeddings[i], sentence_embeddings[i-1]) / (np.linalg.norm(sentence_embeddings[i]) * np.linalg.norm(sentence_embeddings[i-1]))\n",
        "        if similarity_score >= similarity_threshold:\n",
        "            current_chunk += '.' + sentences[i]\n",
        "        else:\n",
        "            chunks.append(current_chunk)\n",
        "            current_chunk = sentences[i]\n",
        "\n",
        "    chunks.append(current_chunk)\n",
        "\n",
        "    return chunks"
      ]
    },
    {
      "cell_type": "code",
      "execution_count": null,
      "metadata": {
        "id": "mSd3OfGzY6L4"
      },
      "outputs": [],
      "source": [
        "temp_1 = pd.DataFrame()\n",
        "temp_2 = pd.DataFrame()"
      ]
    },
    {
      "cell_type": "code",
      "execution_count": null,
      "metadata": {
        "id": "CqPKoLllY6L4"
      },
      "outputs": [],
      "source": [
        "temp_1['num']=df['num'][:30000]"
      ]
    },
    {
      "cell_type": "code",
      "execution_count": null,
      "metadata": {
        "id": "bzmUOYopZXRz"
      },
      "outputs": [],
      "source": [
        "temp_2['num']=df['num'][30000:]"
      ]
    },
    {
      "cell_type": "code",
      "execution_count": null,
      "metadata": {
        "id": "DE10hzHdY6L4",
        "outputId": "08d9f292-4878-45b0-b57c-88271d3bc7fa"
      },
      "outputs": [
        {
          "name": "stdout",
          "output_type": "stream",
          "text": [
            "Total time in seconds = 4418.998434782028\n"
          ]
        }
      ],
      "source": [
        "from joblib import Parallel, delayed\n",
        "import time\n",
        "start = time.time()\n",
        "temp_1['chunks'] = Parallel(n_jobs=-1)(delayed(semantic_chunking)(item) for item in df['content'].values[:30000])\n",
        "end=time.time()\n",
        "print(f\"Total time in seconds = {end-start}\")"
      ]
    },
    {
      "cell_type": "code",
      "execution_count": null,
      "metadata": {
        "id": "KDcM9joaZ4Rs"
      },
      "outputs": [],
      "source": [
        "temp_1.to_json(\"database.json\") "
      ]
    },
    {
      "cell_type": "code",
      "execution_count": null,
      "metadata": {
        "id": "5DY2ZZ4_Y6L5",
        "outputId": "22ee319f-eaf3-47b7-f47e-5a52da1e492e"
      },
      "outputs": [
        {
          "name": "stdout",
          "output_type": "stream",
          "text": [
            "Total time in seconds = 8644.886986494064\n"
          ]
        }
      ],
      "source": [
        "from joblib import Parallel, delayed\n",
        "import time\n",
        "start = time.time()\n",
        "temp_2['chunks'] = Parallel(n_jobs=-1)(delayed(semantic_chunking)(item) for item in df['content'].values[30000:])\n",
        "end=time.time()\n",
        "print(f\"Total time in seconds = {end-start}\")"
      ]
    },
    {
      "cell_type": "code",
      "execution_count": null,
      "metadata": {
        "id": "AXOUK5U6Y6L5"
      },
      "outputs": [],
      "source": [
        "temp_2.to_json(\"database_p2.json\")"
      ]
    },
    {
      "cell_type": "code",
      "execution_count": null,
      "metadata": {
        "id": "khLuxzbyY6L5"
      },
      "outputs": [],
      "source": [
        "import json\n",
        "\n",
        "json_file_path = \"database.json\" \n",
        "with open(json_file_path, 'r') as f:\n",
        "  data = json.load(f)\n",
        "\n",
        "df = pd.DataFrame(data)"
      ]
    },
    {
      "cell_type": "code",
      "execution_count": null,
      "metadata": {
        "id": "xdmSBIIVY6L3"
      },
      "outputs": [],
      "source": [
        "def indexer(item):\n",
        "    index=[]\n",
        "    temp=int(df[df['num']==item].index[0])\n",
        "    for j in range(len(df['chunks'].iloc[temp])):\n",
        "        index.append(item+\"-\"+str(j))\n",
        "    return index"
      ]
    },
    {
      "cell_type": "code",
      "execution_count": null,
      "metadata": {
        "id": "KnppBBFZY6L3"
      },
      "outputs": [],
      "source": [
        "df['num_list'] = df['num'].apply(lambda x : indexer(x))"
      ]
    },
    {
      "cell_type": "code",
      "execution_count": null,
      "metadata": {
        "id": "o6qYstWxdo67"
      },
      "outputs": [],
      "source": [
        "from sentence_transformers import SentenceTransformer\n",
        "\n",
        "model_name = 'paraphrase-MiniLM-L3-v2' #all-MiniLM-L6-v2\n",
        "model = SentenceTransformer(model_name, device='cuda')"
      ]
    },
    {
      "cell_type": "code",
      "execution_count": null,
      "metadata": {
        "id": "ynOHeAwdY6L5"
      },
      "outputs": [],
      "source": [
        "def embedding_gen(data):\n",
        "  return model.encode(data).tolist()"
      ]
    },
    {
      "cell_type": "code",
      "execution_count": null,
      "metadata": {
        "id": "-bDf_yvTY6L5"
      },
      "outputs": [],
      "source": [
        "df['embeddings'] = Parallel(n_jobs=-1)(delayed(embedding_gen)(item) for item in df['chunks'].values)"
      ]
    },
    {
      "cell_type": "code",
      "execution_count": null,
      "metadata": {
        "id": "zC6oxVnbY6L5"
      },
      "outputs": [],
      "source": [
        "import chromadb\n",
        "client = chromadb.PersistentClient(path=\"E://search_engine_db\")\n",
        "collection = client.get_or_create_collection(name=\"search_engine\", metadata={\"hnsw:space\": \"cosine\"})\n",
        "collection_2 = client.get_or_create_collection(name=\"search_engine_FileName\", metadata={\"hnsw:space\": \"cosine\"})"
      ]
    },
    {
      "cell_type": "code",
      "execution_count": null,
      "metadata": {
        "id": "zjLmZnC-mRDx"
      },
      "outputs": [],
      "source": [
        "def add_func_v1():\n",
        "    for i in range(df.shape[0]): \n",
        "        collection_2.add(\n",
        "            documents=[df['name'].iloc[i]],\n",
        "            embeddings=[[1,2,34,45]], \n",
        "            ids=[df['num'].iloc[i]] \n",
        "        )"
      ]
    },
    {
      "cell_type": "code",
      "execution_count": null,
      "metadata": {
        "id": "GdTfIo3qY6L5"
      },
      "outputs": [],
      "source": [
        "def add_func_v2():\n",
        "    for i in range(df.shape[0]):\n",
        "        collection.add(\n",
        "            documents=df['chunks'].iloc[i], \n",
        "            embeddings=df['embeddings'].iloc[i], \n",
        "            ids=df['num_list'].iloc[i] \n",
        "        )"
      ]
    },
    {
      "cell_type": "code",
      "execution_count": null,
      "metadata": {
        "id": "TBcg36NonAzX"
      },
      "outputs": [],
      "source": [
        "%time add_func_v1()"
      ]
    },
    {
      "cell_type": "code",
      "execution_count": null,
      "metadata": {
        "id": "TXSQFt9hY6L5"
      },
      "outputs": [],
      "source": [
        "%time add_func_v2()"
      ]
    },
    {
      "cell_type": "markdown",
      "metadata": {
        "id": "bl0szKjwJh9s"
      },
      "source": [
        "### Streamlit"
      ]
    },
    {
      "cell_type": "code",
      "execution_count": null,
      "metadata": {
        "id": "WS0VI0_vJgyl"
      },
      "outputs": [],
      "source": [
        "import re\n",
        "import chromadb\n",
        "from sentence_transformers import  SentenceTransformer\n",
        "import streamlit as st"
      ]
    },
    {
      "cell_type": "markdown",
      "metadata": {
        "id": "-u46uGgwJqgC"
      },
      "source": [
        "### Initializing chromaDB\n"
      ]
    },
    {
      "cell_type": "code",
      "execution_count": null,
      "metadata": {
        "id": "n-HhpTqFJ1K2"
      },
      "outputs": [],
      "source": [
        "client = chromadb.PersistentClient(path=\"E://search_engine_db\") \n",
        "collection = client.get_collection(name=\"search_engine\") \n",
        "collection_name = client.get_collection(name=\"search_engine_FileName\")\n",
        "model_name=\"paraphrase-MiniLM-L3-V2\"\n",
        "model = SentenceTransformer(model_name, device=\"cuda\")"
      ]
    },
    {
      "cell_type": "code",
      "execution_count": null,
      "metadata": {
        "id": "SNfHvXfqKI5C"
      },
      "outputs": [],
      "source": [
        "def clean_data(data):\n",
        "    data = re.sub(\"\\d{2}:\\d{2}:\\d{2},\\d{3}\\s-->\\s\\d{2}:\\d{2}:\\d{2},\\d{3}\",\" \",  data)\n",
        "    data = re.sub(r'\\n?\\d+\\r', \"\", data)\n",
        "    data = re.sub('\\r|\\n', \"\", data)\n",
        "    data = re.sub('<i>|</i>', \"\", data)\n",
        "    data = re.sub(\"(?:www\\.)osdb\\.link\\/[\\w\\d]+|www\\.OpenSubtitles\\.org|osdb\\.link\\/ext|api\\.OpenSubtitles\\.org|OpenSubtitles\\.com\", \" \",data)\n",
        "    data = data.lower()\n",
        "    return data"
      ]
    },
    {
      "cell_type": "code",
      "execution_count": null,
      "metadata": {
        "id": "viOUhHWOKctB"
      },
      "outputs": [],
      "source": [
        "def extract_id(id_list):\n",
        "    new_id_list=[]\n",
        "    for item in id_list:\n",
        "        match = re.match(r'^(\\d+)', item)\n",
        "        if match:\n",
        "            extracted_number = match.group(1)\n",
        "            new_id_list.append(extracted_number)\n",
        "    return new_id_list"
      ]
    },
    {
      "cell_type": "markdown",
      "metadata": {
        "id": "8g-W3XdgKgFV"
      },
      "source": [
        "### Creating the web application"
      ]
    },
    {
      "cell_type": "code",
      "execution_count": null,
      "metadata": {
        "id": "Zx5bxz_Z3LUq"
      },
      "outputs": [],
      "source": [
        "st.header(\"Enhancing Search Engine Relevance for Video Subtitles\")\n",
        "search_query=st.text_input(\"Enter a dialogue to search....\")\n",
        "if st.button(\"Search\")==True:\n",
        "\n",
        "    st.subheader(\"Relevant Subtitle Files\")\n",
        "    search_query=clean_data(search_query)\n",
        "    query_embed = model.encode(search_query).tolist()\n",
        "\n",
        "    search_results=collection.query(query_embeddings=query_embed, n_results=10)\n",
        "    id_list = search_results['ids'][0]\n",
        "\n",
        "    id_list = extract_id(id_list)\n",
        "    print(id_list)\n",
        "    for id in id_list:\n",
        "        file_name = collection_name.get(ids=f\"{id}\")[\"documents\"][0]\n",
        "        st.markdown(f\"[{file_name}](https://www.opensubtitles.org/en/subtitles/{id})\")\n"
      ]
    }
  ],
  "metadata": {
    "accelerator": "GPU",
    "colab": {
      "gpuType": "T4",
      "provenance": []
    },
    "kernelspec": {
      "display_name": "Python 3 (ipykernel)",
      "language": "python",
      "name": "python3"
    },
    "language_info": {
      "codemirror_mode": {
        "name": "ipython",
        "version": 3
      },
      "file_extension": ".py",
      "mimetype": "text/x-python",
      "name": "python",
      "nbconvert_exporter": "python",
      "pygments_lexer": "ipython3",
      "version": "3.11.7"
    }
  },
  "nbformat": 4,
  "nbformat_minor": 0
}
